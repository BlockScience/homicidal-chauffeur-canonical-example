{
 "cells": [
  {
   "cell_type": "markdown",
   "metadata": {},
   "source": [
    "# Homicidal Chauffeur\n",
    "\n",
    "Descriptions and ideas taken from Jamsheed Shorish's write up of the HC problem [here](https://hackmd.io/GhGs4ID4ThKhe9JgdSoxSw?both)"
   ]
  },
  {
   "cell_type": "code",
   "execution_count": 4,
   "metadata": {},
   "outputs": [
    {
     "data": {
      "text/markdown": [
       "```mermaid\n",
       "---\n",
       "config:\n",
       "    layout: elk\n",
       "---\n",
       "graph LR\n",
       "subgraph GS0[Homicidal Chauffeur]\n",
       "subgraph G0[Pursuer Action - U Block]\n",
       "direction LR\n",
       "X0[Pursuer Action]\n",
       "subgraph G0P[Ports]\n",
       "direction TB\n",
       "XX0P0[X]\n",
       "end\n",
       "XX0P0[X] o--o X0\n",
       "subgraph G0T[Terminals]\n",
       "direction TB\n",
       "end\n",
       "end\n",
       "subgraph G1[Evader Action - U Block]\n",
       "direction LR\n",
       "X1[Evader Action]\n",
       "subgraph G1P[Ports]\n",
       "direction TB\n",
       "XX1P0[X]\n",
       "end\n",
       "XX1P0[X] o--o X1\n",
       "subgraph G1T[Terminals]\n",
       "direction TB\n",
       "end\n",
       "end\n",
       "end\n",
       "\n",
       "```"
      ],
      "text/plain": [
       "<IPython.core.display.Markdown object>"
      ]
     },
     "metadata": {},
     "output_type": "display_data"
    }
   ],
   "source": [
    "from pybdp import load_project\n",
    "from IPython.display import Markdown\n",
    "\n",
    "# \n",
    "\n",
    "# Create the json\n",
    "project_json = {\"Toolbox\": {\"Spaces\": [{\"ID\": \"X\", \"Name\": \"X\", \"Description\": \"The state space where the position of the pursuer is always at the origin, and a point $\\mathbf x := (x,y)$ defines the position of the evader relative to the pursuer.\"},],\n",
    "                            \"Blocks\": [{\"ID\": \"U\", \"Name\": \"U\", \"Description\": \"Block for player choices where each player has an admissable action set they are choosing from\",\n",
    "                            \"Domain\": [\"X\"], \"Codomain\": []},],},\n",
    "                \"Workbench\": {\"Processors\": [{\"ID\": \"Pursuer Action\", \"Name\": \"Pursuer Action\",\n",
    "                                              \"Parent\": \"U\", \"Ports\": [\"X\"], \"Terminals\": [], \"Description\": \"The pursuer chooses an action from the admissable action set $U_p$.\"},\n",
    "                                              {\"ID\": \"Evader Action\", \"Name\": \"Evader Action\",\n",
    "                                              \"Parent\": \"U\", \"Ports\": [\"X\"], \"Terminals\": [], \"Description\": \"The evader chooses an action from the admissable action set $U_e$.\"},],\n",
    "                                \"Wires\": [],\n",
    "                              \"Systems\": [{\"ID\": \"Homicidal Chauffeur\", \"Name\": \"Homicidal Chauffeur\",\n",
    "                                           \"Processors\": [\"Pursuer Action\", \"Evader Action\"],\n",
    "                                           \"Wires\": []}],}}\n",
    "\n",
    "# Load the project\n",
    "project = load_project(project_json)\n",
    "\n",
    "# Display the mermaid graphic of this system\n",
    "display(Markdown(project.systems_map[\"Homicidal Chauffeur\"].create_mermaid_graphic()[0]))"
   ]
  },
  {
   "cell_type": "code",
   "execution_count": null,
   "metadata": {},
   "outputs": [],
   "source": []
  }
 ],
 "metadata": {
  "kernelspec": {
   "display_name": "MSML",
   "language": "python",
   "name": "python3"
  },
  "language_info": {
   "codemirror_mode": {
    "name": "ipython",
    "version": 3
   },
   "file_extension": ".py",
   "mimetype": "text/x-python",
   "name": "python",
   "nbconvert_exporter": "python",
   "pygments_lexer": "ipython3",
   "version": "3.9.19"
  }
 },
 "nbformat": 4,
 "nbformat_minor": 2
}
