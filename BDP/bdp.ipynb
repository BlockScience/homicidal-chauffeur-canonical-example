{
 "cells": [
  {
   "cell_type": "markdown",
   "metadata": {},
   "source": [
    "# Homicidal Chauffeur\n",
    "\n",
    "Descriptions and ideas taken from Jamsheed Shorish's write up of the HC problem [here](https://hackmd.io/GhGs4ID4ThKhe9JgdSoxSw?both)"
   ]
  },
  {
   "cell_type": "code",
   "execution_count": 8,
   "metadata": {},
   "outputs": [
    {
     "data": {
      "text/markdown": [
       "```mermaid\n",
       "---\n",
       "config:\n",
       "    layout: elk\n",
       "---\n",
       "graph LR\n",
       "subgraph GS0[Homicidal Chauffeur]\n",
       "subgraph G0[Pursuer Action - U Block]\n",
       "direction LR\n",
       "X0[Pursuer Action]\n",
       "subgraph G0P[Ports]\n",
       "direction TB\n",
       "XX0P0[X]\n",
       "end\n",
       "XX0P0[X] o--o X0\n",
       "subgraph G0T[Terminals]\n",
       "direction TB\n",
       "XX0T0[R]\n",
       "end\n",
       "X0 o--o XX0T0[R]\n",
       "end\n",
       "subgraph G1[Evader Action - U Block]\n",
       "direction LR\n",
       "X1[Evader Action]\n",
       "subgraph G1P[Ports]\n",
       "direction TB\n",
       "XX1P0[X]\n",
       "end\n",
       "XX1P0[X] o--o X1\n",
       "subgraph G1T[Terminals]\n",
       "direction TB\n",
       "XX1T0[R]\n",
       "end\n",
       "X1 o--o XX1T0[R]\n",
       "end\n",
       "subgraph G2[State Transition - State Transition Block Block]\n",
       "direction LR\n",
       "X2[State Transition]\n",
       "subgraph G2P[Ports]\n",
       "direction TB\n",
       "XX2P0[X]\n",
       "XX2P1[R]\n",
       "XX2P2[R]\n",
       "end\n",
       "XX2P0[X] o--o X2\n",
       "XX2P1[R] o--o X2\n",
       "XX2P2[R] o--o X2\n",
       "subgraph G2T[Terminals]\n",
       "direction TB\n",
       "XX2T0[X]\n",
       "end\n",
       "X2 o--o XX2T0[X]\n",
       "end\n",
       "end\n",
       "\n",
       "```"
      ],
      "text/plain": [
       "<IPython.core.display.Markdown object>"
      ]
     },
     "metadata": {},
     "output_type": "display_data"
    }
   ],
   "source": [
    "from pybdp import load_project\n",
    "from IPython.display import Markdown\n",
    "\n",
    "# \n",
    "\n",
    "# Create the json\n",
    "project_json = {\"Toolbox\": {\"Spaces\": [{\"ID\": \"X\", \"Name\": \"X\", \"Description\": \"The state space where the position of the pursuer is always at the origin, and a point $\\mathbf x := (x,y)$ defines the position of the evader relative to the pursuer.\"},\n",
    "{\"ID\": \"R\", \"Name\": \"R\", \"Description\": \"The turn radius in radians.\"}],\n",
    "                            \"Blocks\": [{\"ID\": \"U\", \"Name\": \"U\", \"Description\": \"Block for player choices where each player has an admissable action set they are choosing from\",\n",
    "                            \"Domain\": [\"X\"], \"Codomain\": [\"R\"]},\n",
    "                            {\"ID\": \"State Transition Block\", \"Name\": \"State Transition Block\", \"Description\": \"Block which takes care of state transition\",\n",
    "                            \"Domain\": [\"X\", \"R\", \"R\"], \"Codomain\": [\"X\"]}],},\n",
    "                \"Workbench\": {\"Processors\": [{\"ID\": \"Pursuer Action\", \"Name\": \"Pursuer Action\",\n",
    "                                              \"Parent\": \"U\", \"Ports\": [\"X\"], \"Terminals\": [\"R\"], \"Description\": \"The pursuer chooses an action from the admissable action set $U_p$.\"},\n",
    "                                              {\"ID\": \"Evader Action\", \"Name\": \"Evader Action\",\n",
    "                                              \"Parent\": \"U\", \"Ports\": [\"X\"], \"Terminals\": [\"R\"], \"Description\": \"The evader chooses an action from the admissable action set $U_e$.\"},\n",
    "                                              {\"ID\": \"State Transition\", \"Name\": \"State Transition\",\n",
    "                                              \"Parent\": \"State Transition Block\", \"Ports\": [\"X\", \"R\", \"R\"], \"Terminals\": [\"X\"], \"Description\": \"The state transition processor takes the current state and the actions of the players and returns the next state.\"}],\n",
    "                                \"Wires\": [],\n",
    "                              \"Systems\": [{\"ID\": \"Homicidal Chauffeur\", \"Name\": \"Homicidal Chauffeur\",\n",
    "                                           \"Processors\": [\"Pursuer Action\", \"Evader Action\", \"State Transition\"],\n",
    "                                           \"Wires\": []}],}}\n",
    "\n",
    "# Load the project\n",
    "project = load_project(project_json)\n",
    "\n",
    "# Display the mermaid graphic of this system\n",
    "display(Markdown(project.systems_map[\"Homicidal Chauffeur\"].create_mermaid_graphic()[0]))"
   ]
  },
  {
   "cell_type": "code",
   "execution_count": null,
   "metadata": {},
   "outputs": [],
   "source": []
  }
 ],
 "metadata": {
  "kernelspec": {
   "display_name": "MSML",
   "language": "python",
   "name": "python3"
  },
  "language_info": {
   "codemirror_mode": {
    "name": "ipython",
    "version": 3
   },
   "file_extension": ".py",
   "mimetype": "text/x-python",
   "name": "python",
   "nbconvert_exporter": "python",
   "pygments_lexer": "ipython3",
   "version": "3.9.19"
  }
 },
 "nbformat": 4,
 "nbformat_minor": 2
}
